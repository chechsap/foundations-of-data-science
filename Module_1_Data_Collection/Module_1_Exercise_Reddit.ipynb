{
 "cells": [
  {
   "cell_type": "code",
   "execution_count": 1,
   "metadata": {},
   "outputs": [],
   "source": [
    "import pandas as pd \n",
    "import datetime\n",
    "import csv\n",
    "import os \n",
    "import requests \n",
    "import datetime as dt\n",
    "import time"
   ]
  },
  {
   "cell_type": "markdown",
   "metadata": {},
   "source": [
    "# Exercise"
   ]
  },
  {
   "cell_type": "markdown",
   "metadata": {},
   "source": [
    "For your exercise do the following:\n",
    "\n",
    "1. Choose a reddit page you want to crawl\n",
    "2. The following fields should be present when you crawl **(10 points)**:\n",
    "    - author\n",
    "    - subreddit\n",
    "    - date created \n",
    "    - number of comments \n",
    "    - score\n",
    "    - submission title \n",
    "    - submission description\n",
    "3. After crawling, save your results to a pandas dataframe **(3 points)**. \n",
    "4. Answer the following questions **(12 points)**:\n",
    "    - How many submissions were you able to gather? \n",
    "    - Who has the most submissions? \n",
    "    - Which submission has the highest score? \n",
    "    - Which submission has the highest number of comments?\n",
    "    - Which day of the week has the most submissions? "
   ]
  },
  {
   "cell_type": "code",
   "execution_count": null,
   "metadata": {},
   "outputs": [],
   "source": []
  }
 ],
 "metadata": {
  "kernelspec": {
   "display_name": "Python 3",
   "language": "python",
   "name": "python3"
  },
  "language_info": {
   "codemirror_mode": {
    "name": "ipython",
    "version": 3
   },
   "file_extension": ".py",
   "mimetype": "text/x-python",
   "name": "python",
   "nbconvert_exporter": "python",
   "pygments_lexer": "ipython3",
   "version": "3.7.7"
  }
 },
 "nbformat": 4,
 "nbformat_minor": 4
}
